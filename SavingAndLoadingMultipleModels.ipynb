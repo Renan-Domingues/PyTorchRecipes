{
  "nbformat": 4,
  "nbformat_minor": 0,
  "metadata": {
    "colab": {
      "provenance": [],
      "authorship_tag": "ABX9TyMNklxvPFzUl20apETdeLvp",
      "include_colab_link": true
    },
    "kernelspec": {
      "name": "python3",
      "display_name": "Python 3"
    },
    "language_info": {
      "name": "python"
    }
  },
  "cells": [
    {
      "cell_type": "markdown",
      "metadata": {
        "id": "view-in-github",
        "colab_type": "text"
      },
      "source": [
        "<a href=\"https://colab.research.google.com/github/Renan-Domingues/PyTorchRecipes/blob/main/SavingAndLoadingMultipleModels.ipynb\" target=\"_parent\"><img src=\"https://colab.research.google.com/assets/colab-badge.svg\" alt=\"Open In Colab\"/></a>"
      ]
    },
    {
      "cell_type": "markdown",
      "source": [
        "# Saving and loading multiple models in one file using PyTorch\n",
        "\n",
        "Saving and loading multiple models can be helpful for reusing models that was previously trained."
      ],
      "metadata": {
        "id": "2ex34ilgVkdb"
      }
    },
    {
      "cell_type": "markdown",
      "source": [
        "# Introduction\n",
        "When saving a model comprised of multiple torch.nn.Module, it's important to save a dictionary of each model's state_dict and corresponding oprimizer.\n",
        "\n",
        " To load the models, first initialize the models and optimizers, then load the dictionary locally using torch.load().\n",
        "\n",
        " From here, you can easily access the saved items by simply querying the dictionary as you would expect. In this recipe, we will demonstrate how to save multiple models to one file using PyTorch."
      ],
      "metadata": {
        "id": "W5DjDHEWV5kq"
      }
    },
    {
      "cell_type": "code",
      "source": [
        "# if wasn't available, I should instal torch\n",
        "\n",
        "!pip install torch  # \"!\" is for instalation in Google Colab"
      ],
      "metadata": {
        "colab": {
          "base_uri": "https://localhost:8080/"
        },
        "id": "BrfAtj-TWljt",
        "outputId": "5bbccb0c-93c7-425d-8aac-ab7a124477ce"
      },
      "execution_count": 1,
      "outputs": [
        {
          "output_type": "stream",
          "name": "stdout",
          "text": [
            "Requirement already satisfied: torch in /usr/local/lib/python3.10/dist-packages (2.0.1+cu118)\n",
            "Requirement already satisfied: filelock in /usr/local/lib/python3.10/dist-packages (from torch) (3.12.2)\n",
            "Requirement already satisfied: typing-extensions in /usr/local/lib/python3.10/dist-packages (from torch) (4.7.1)\n",
            "Requirement already satisfied: sympy in /usr/local/lib/python3.10/dist-packages (from torch) (1.11.1)\n",
            "Requirement already satisfied: networkx in /usr/local/lib/python3.10/dist-packages (from torch) (3.1)\n",
            "Requirement already satisfied: jinja2 in /usr/local/lib/python3.10/dist-packages (from torch) (3.1.2)\n",
            "Requirement already satisfied: triton==2.0.0 in /usr/local/lib/python3.10/dist-packages (from torch) (2.0.0)\n",
            "Requirement already satisfied: cmake in /usr/local/lib/python3.10/dist-packages (from triton==2.0.0->torch) (3.25.2)\n",
            "Requirement already satisfied: lit in /usr/local/lib/python3.10/dist-packages (from triton==2.0.0->torch) (16.0.6)\n",
            "Requirement already satisfied: MarkupSafe>=2.0 in /usr/local/lib/python3.10/dist-packages (from jinja2->torch) (2.1.3)\n",
            "Requirement already satisfied: mpmath>=0.19 in /usr/local/lib/python3.10/dist-packages (from sympy->torch) (1.3.0)\n"
          ]
        }
      ]
    },
    {
      "cell_type": "markdown",
      "source": [
        "# Steps\n",
        "\n",
        "1. Import all necessary libraries for loading our data\n",
        "2. Define and initialize the neural network\n",
        "3. Initialize the optimizer\n",
        "4. Save multiple models\n",
        "5. Load multiple models\n"
      ],
      "metadata": {
        "id": "9VwQfAomW8N2"
      }
    },
    {
      "cell_type": "markdown",
      "source": [
        "### 1. Import the libraries"
      ],
      "metadata": {
        "id": "AWfGKApmXJ4H"
      }
    },
    {
      "cell_type": "code",
      "source": [
        "import torch\n",
        "import torch.nn as nn\n",
        "import torch.optim as optim"
      ],
      "metadata": {
        "id": "bE0G8m8vXPrI"
      },
      "execution_count": 2,
      "outputs": []
    },
    {
      "cell_type": "markdown",
      "source": [
        "### 2. Define and initialize the neural network\n",
        "This is a neural network for training images that I'm using in the examples for the basic recipes"
      ],
      "metadata": {
        "id": "AYaB40caXYDI"
      }
    },
    {
      "cell_type": "code",
      "source": [
        "class Net(nn.Module):\n",
        "  def __init__(self):\n",
        "    super(Net, self).__init__()\n",
        "    self.conv1 = nn.Conv2d(3, 6, 5)\n",
        "    self.pool = nn.MaxPool2d(2, 2)\n",
        "    self.conv2 = nn.Conv2d(6, 16, 5)\n",
        "    self.fc1 = nn.Linear(16 * 5 * 5, 120)\n",
        "    self.fc2 = nn.Linear(120, 84)\n",
        "    self.fc3 = nn.Linear(84, 10)\n",
        "\n",
        "  def forward(self, x):\n",
        "    x = self.pool(F.relu(self.conv1(x)))\n",
        "    x = self.pool(F.relu(self.conv2(x)))\n",
        "    x = x.view(-1, 16 * 5 * 5)\n",
        "    x = F.relu(self.fc1(x))\n",
        "    x = F.relu(self.fc2(x))\n",
        "    x = self.fc3(x)\n",
        "    return x\n",
        "\n",
        "netA = Net()\n",
        "netB = Net()"
      ],
      "metadata": {
        "id": "f37nK5XbXzsd"
      },
      "execution_count": 3,
      "outputs": []
    },
    {
      "cell_type": "markdown",
      "source": [
        "### 3. Initialize the optimizer\n",
        "We'll use a SGD with momentum"
      ],
      "metadata": {
        "id": "pUyjNthYZPHz"
      }
    },
    {
      "cell_type": "code",
      "source": [
        "optimizerA = optim.SGD(netA.parameters(), lr=0.001, momentum=0.9)\n",
        "optimizerB = optim.SGD(netB.parameters(), lr=0.001, momentum=0.9)"
      ],
      "metadata": {
        "id": "DCERkT_jZaCq"
      },
      "execution_count": 6,
      "outputs": []
    },
    {
      "cell_type": "markdown",
      "source": [
        "### 4. Save multiple models\n",
        "Collect all relevant information and build your dictionary"
      ],
      "metadata": {
        "id": "M_6JSIA2ZxiA"
      }
    },
    {
      "cell_type": "code",
      "source": [
        "# Specify a path to save to\n",
        "\n",
        "PATH = \"model.pt\"\n",
        "\n",
        "torch.save({\n",
        "    'modelA_state_dict': netA.state_dict(),\n",
        "    'modelB_state_dict': netB.state_dict(),\n",
        "    'optimizerA_state_dict': optimizerA.state_dict(),\n",
        "    'optimizerB_state_dict': optimizerB.state_dict(),\n",
        "}, PATH)"
      ],
      "metadata": {
        "id": "fprZPgG6Z8Nc"
      },
      "execution_count": 7,
      "outputs": []
    },
    {
      "cell_type": "markdown",
      "source": [
        "### 5. Load Multiple models"
      ],
      "metadata": {
        "id": "UgwIUwBCa7J5"
      }
    },
    {
      "cell_type": "code",
      "source": [
        "# Remember to first initialize the models and optimizers, then load the dictionary locally.\n",
        "\n",
        "modelA = Net()\n",
        "modelB = Net()\n",
        "optimModelA = optim.SGD(modelA.parameters(), lr=0.001, momentum=0.9)\n",
        "optimModelB = optim.SGD(modelB.parameters(), lr=0.001, momentum=0.9)\n",
        "\n",
        "checkpoint = torch.load(PATH)\n",
        "modelA.load_state_dict(checkpoint['modelA_state_dict'])\n",
        "modelB.load_state_dict(checkpoint['modelB_state_dict'])\n",
        "optimizerA.load_state_dict(checkpoint['optimizerA_state_dict'])\n",
        "optimizerB.load_state_dict(checkpoint['optimizerB_state_dict'])\n",
        "\n",
        "modelA.eval()\n",
        "modelB.eval()\n",
        "\n",
        "# or modelA.train()\n",
        "# modelB.train()"
      ],
      "metadata": {
        "colab": {
          "base_uri": "https://localhost:8080/"
        },
        "id": "p8ZXIzm-bD0s",
        "outputId": "c049596d-a851-4b77-c5ed-2d0b840cc1be"
      },
      "execution_count": 8,
      "outputs": [
        {
          "output_type": "execute_result",
          "data": {
            "text/plain": [
              "Net(\n",
              "  (conv1): Conv2d(3, 6, kernel_size=(5, 5), stride=(1, 1))\n",
              "  (pool): MaxPool2d(kernel_size=2, stride=2, padding=0, dilation=1, ceil_mode=False)\n",
              "  (conv2): Conv2d(6, 16, kernel_size=(5, 5), stride=(1, 1))\n",
              "  (fc1): Linear(in_features=400, out_features=120, bias=True)\n",
              "  (fc2): Linear(in_features=120, out_features=84, bias=True)\n",
              "  (fc3): Linear(in_features=84, out_features=10, bias=True)\n",
              ")"
            ]
          },
          "metadata": {},
          "execution_count": 8
        }
      ]
    },
    {
      "cell_type": "markdown",
      "source": [
        "Remember to call model.eval() before runing the inference\n",
        "\n",
        "or model.train() if we want to trein the model"
      ],
      "metadata": {
        "id": "SSz7uhUbcWUI"
      }
    }
  ]
}