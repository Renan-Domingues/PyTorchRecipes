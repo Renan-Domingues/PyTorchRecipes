{
  "nbformat": 4,
  "nbformat_minor": 0,
  "metadata": {
    "colab": {
      "provenance": [],
      "authorship_tag": "ABX9TyPVHSlFqc0QGlgmxjpWQMcv",
      "include_colab_link": true
    },
    "kernelspec": {
      "name": "python3",
      "display_name": "Python 3"
    },
    "language_info": {
      "name": "python"
    }
  },
  "cells": [
    {
      "cell_type": "markdown",
      "metadata": {
        "id": "view-in-github",
        "colab_type": "text"
      },
      "source": [
        "<a href=\"https://colab.research.google.com/github/Renan-Domingues/PyTorchRecipes/blob/main/DefiningNeuralNetwork.ipynb\" target=\"_parent\"><img src=\"https://colab.research.google.com/assets/colab-badge.svg\" alt=\"Open In Colab\"/></a>"
      ]
    },
    {
      "cell_type": "markdown",
      "source": [
        "# Defining a Neural Network in PyTorch\n",
        "Deep learning uses artificial neural networks (models), which are computing systems that are composed of many layers of interconnected units.\n",
        "By passing data to theses layers the neural network is able to learn how to approximate the computations required to transform inputs into outputs"
      ],
      "metadata": {
        "id": "PtCPmzBQcNQK"
      }
    },
    {
      "cell_type": "markdown",
      "source": [
        "### Introduction\n",
        "\n",
        "PyTorch provides torch.nn to help create a neural networks.\n",
        "An nn.Module contains layers and method forward(input) that returns output."
      ],
      "metadata": {
        "id": "vbrn0_JXdXTS"
      }
    },
    {
      "cell_type": "markdown",
      "source": [
        "### Setup\n",
        "We have to install torch IF it isn't already available."
      ],
      "metadata": {
        "id": "FBYN-wLnd4Jd"
      }
    },
    {
      "cell_type": "code",
      "source": [
        "!pip install torch\n",
        "\n",
        "# in colabs torh is already available\n",
        "# this code is not necessary in this situation\n"
      ],
      "metadata": {
        "colab": {
          "base_uri": "https://localhost:8080/"
        },
        "id": "DHoIm4zpeJvE",
        "outputId": "f6f83fa1-ae8c-438f-9d94-1c06a55b0b90"
      },
      "execution_count": 2,
      "outputs": [
        {
          "output_type": "stream",
          "name": "stdout",
          "text": [
            "Requirement already satisfied: torch in /usr/local/lib/python3.10/dist-packages (2.0.1+cu118)\n",
            "Requirement already satisfied: filelock in /usr/local/lib/python3.10/dist-packages (from torch) (3.12.2)\n",
            "Requirement already satisfied: typing-extensions in /usr/local/lib/python3.10/dist-packages (from torch) (4.7.1)\n",
            "Requirement already satisfied: sympy in /usr/local/lib/python3.10/dist-packages (from torch) (1.11.1)\n",
            "Requirement already satisfied: networkx in /usr/local/lib/python3.10/dist-packages (from torch) (3.1)\n",
            "Requirement already satisfied: jinja2 in /usr/local/lib/python3.10/dist-packages (from torch) (3.1.2)\n",
            "Requirement already satisfied: triton==2.0.0 in /usr/local/lib/python3.10/dist-packages (from torch) (2.0.0)\n",
            "Requirement already satisfied: cmake in /usr/local/lib/python3.10/dist-packages (from triton==2.0.0->torch) (3.25.2)\n",
            "Requirement already satisfied: lit in /usr/local/lib/python3.10/dist-packages (from triton==2.0.0->torch) (16.0.6)\n",
            "Requirement already satisfied: MarkupSafe>=2.0 in /usr/local/lib/python3.10/dist-packages (from jinja2->torch) (2.1.3)\n",
            "Requirement already satisfied: mpmath>=0.19 in /usr/local/lib/python3.10/dist-packages (from sympy->torch) (1.3.0)\n"
          ]
        }
      ]
    },
    {
      "cell_type": "markdown",
      "source": [
        "### Steps\n",
        "\n",
        "\n",
        "\n",
        "1. Import all necessary libraries for loading our data\n",
        "\n",
        "2. Define and initialize the neural network\n",
        "\n",
        "3. Specify how data will pass through your model\n",
        "\n",
        "4. [Optional] Pass data through your model to test\n"
      ],
      "metadata": {
        "id": "PTREk-A4edM6"
      }
    },
    {
      "cell_type": "markdown",
      "source": [
        "### 1. Import the necessary libriries for loading data\n"
      ],
      "metadata": {
        "id": "WYWfYzqwyIx9"
      }
    },
    {
      "cell_type": "code",
      "source": [
        "# We'll use torch, torch.nn and torch.nn.functional\n",
        "\n",
        "import torch\n",
        "import torch.nn as nn\n",
        "import torch.nn.functional as F"
      ],
      "metadata": {
        "id": "-LNDPZFcyQ6T"
      },
      "execution_count": 2,
      "outputs": []
    },
    {
      "cell_type": "markdown",
      "source": [
        "### 2. Define and initialize the neural network\n",
        "\n",
        "Our network will recognize images. We'll use a process built into PyTorch called convolution. Convolution adds each element of an image to its local  neighbors, weighted by a kernel, or a small matrix, that helps us extract certain features (like edge detection, sharpness, blurriness, etc) from the input image\n",
        "\n",
        "There are two requirements for defining the Net class of your model. The first is writing an __init__ function that references nn.Module. This function is where you define the fully connected layers in your neural network.\n",
        "\n",
        "Using convolution, we will define our model to take 1 input image channel, and output match our target of 10 labels representing numbers 0 through 9. This algorithm is your to create, we will follow a standard MNIST algorithm.\n"
      ],
      "metadata": {
        "id": "fWWfC2RBykDt"
      }
    },
    {
      "cell_type": "code",
      "source": [
        "class Net(nn.Module):\n",
        "  def __init__(self):\n",
        "    super(Net, self).__init__()\n",
        "\n",
        "    #first 2D convolutional layer, taking in 1 input channel (image),\n",
        "    # outputting 32 convolutional features, with a squere kernel size of 3\n",
        "    self.conv1 = nn.Conv2d(1, 32, 3, 1)\n",
        "    # second 2d convolutional layer, taking in the 32 input layers\n",
        "    # output 64 convolutional features, with a square kernel size of 3\n",
        "    self.conv2 = nn.Conv2d(32, 64, 3, 1)\n",
        "\n",
        "    # Designed to ensure that adjacent pixels are either all 0 or all active\n",
        "    # with an  input probabilitie\n",
        "    self.dropout1 = nn.Dropout2d(0.25)\n",
        "    self.dropout2 = nn.Dropout2d(0.25)\n",
        "\n",
        "    # first fully connected layer\n",
        "    self.fc1 = nn.Linear(9216, 128)\n",
        "    # secondy fully connected layer that outputs our 10 labels\n",
        "    self.fc2 = nn.Linear(128, 10)\n",
        "\n",
        "my_nn = Net()\n",
        "print(my_nn)"
      ],
      "metadata": {
        "colab": {
          "base_uri": "https://localhost:8080/"
        },
        "id": "bpomSidN0AGg",
        "outputId": "e3e893ef-5e16-4940-bfdf-1c806c3b0267"
      },
      "execution_count": 6,
      "outputs": [
        {
          "output_type": "stream",
          "name": "stdout",
          "text": [
            "Net(\n",
            "  (conv1): Conv2d(1, 32, kernel_size=(3, 3), stride=(1, 1))\n",
            "  (conv2): Conv2d(32, 64, kernel_size=(3, 3), stride=(1, 1))\n",
            "  (dropout1): Dropout2d(p=0.25, inplace=False)\n",
            "  (dropout2): Dropout2d(p=0.25, inplace=False)\n",
            "  (fc1): Linear(in_features=9216, out_features=128, bias=True)\n",
            "  (fc2): Linear(in_features=128, out_features=10, bias=True)\n",
            ")\n"
          ]
        }
      ]
    },
    {
      "cell_type": "markdown",
      "source": [
        "##### note\n",
        "in the self.conv = 1st number is the input (1 image), 2nd is the outputting, 3rd is the kernel size (3x3), 4th is teh stride number"
      ],
      "metadata": {
        "id": "13ZeD4yl2P3i"
      }
    },
    {
      "cell_type": "markdown",
      "source": [
        "# Specify how thw data will pass through the model\n",
        "\n",
        "When we use a PyTorch to build a model, we have to define the forward method function, that will pass the data into the computation graph(our neural network)"
      ],
      "metadata": {
        "id": "kIxVGNmS3oDU"
      }
    },
    {
      "cell_type": "code",
      "source": [
        "class Net(nn.Module):\n",
        "  def __init__(self):\n",
        "    super(Net, self).__init__()\n",
        "    self.conv1 = nn.Conv2d(1, 32, 3, 1)\n",
        "    self.conv2 = nn.Conv2d(32, 64, 3, 1)\n",
        "    self.dropout1 = nn.Dropout2d(0.25)\n",
        "    self.dropout2 = nn.Dropout2d(0.5)\n",
        "    self.fc1 = nn.Linear(9216, 128)\n",
        "    self.fc2 = nn.Linear(128, 10)\n",
        "\n",
        "    # \"x\" represent our data\n",
        "  def forward(self, x):\n",
        "    # Pass data through conv1\n",
        "    x = self.conv1(x)\n",
        "    # use the rectifield-linear activation function over x\n",
        "    x = F.relu(x)\n",
        "\n",
        "    x = self.conv2(x)\n",
        "    x = F.relu(x)\n",
        "\n",
        "    # run max pooling over x\n",
        "    x = F.max_pool2d(x, 2)\n",
        "    # pass data through dropout1\n",
        "    x = self.dropout1(x)\n",
        "    # Flatten x with start_dim_1\n",
        "    x = torch.flatten(x, 1)\n",
        "    # Pass data through fc1\n",
        "    x = self.fc1(x)\n",
        "    x = F.relu(x)\n",
        "    x = self.dropout2(x)\n",
        "    x = self.fc2(x)\n",
        "\n",
        "    # apply softmax to x\n",
        "    output = F.log_softmax(x, dim=1)\n",
        "    return output\n"
      ],
      "metadata": {
        "id": "pDnH1HHO4PiY"
      },
      "execution_count": 23,
      "outputs": []
    },
    {
      "cell_type": "markdown",
      "source": [
        "### Pass the data through the model to test\n",
        "\n",
        "To ensure we receive the desired output, let's test the model with some random data"
      ],
      "metadata": {
        "id": "p4vdnsWd7y7Z"
      }
    },
    {
      "cell_type": "code",
      "source": [
        "# Equates to one random 28x28 image\n",
        "random_data = torch.rand((1, 1, 28, 28))\n",
        "\n",
        "my_nn = Net()\n",
        "result = my_nn(random_data)\n",
        "print(result)"
      ],
      "metadata": {
        "colab": {
          "base_uri": "https://localhost:8080/"
        },
        "id": "IXV4ad3B8BCw",
        "outputId": "52f14aa4-52d8-4e55-dfb4-56fa590b935d"
      },
      "execution_count": 24,
      "outputs": [
        {
          "output_type": "stream",
          "name": "stdout",
          "text": [
            "tensor([[-2.2324, -2.2674, -2.3448, -2.1251, -2.3459, -2.4090, -2.3216, -2.4400,\n",
            "         -2.3432, -2.2360]], grad_fn=<LogSoftmaxBackward0>)\n"
          ]
        }
      ]
    },
    {
      "cell_type": "markdown",
      "source": [
        "Each number in this resulting tensor equates to the prediction of the label the random tensor is associated to."
      ],
      "metadata": {
        "id": "VQOoR02p8Uv2"
      }
    }
  ]
}